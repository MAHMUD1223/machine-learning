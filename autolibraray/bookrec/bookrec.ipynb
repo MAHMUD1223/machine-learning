{
 "cells": [
  {
   "cell_type": "code",
   "execution_count": 9,
   "id": "17abe6e6-9e7c-4e15-ae59-07db2bdfc30b",
   "metadata": {},
   "outputs": [
    {
     "data": {
      "text/plain": [
       "title             6411\n",
       "authors           6411\n",
       "categories        6411\n",
       "description       6411\n",
       "published_year    6411\n",
       "average_rating    6411\n",
       "num_pages         6411\n",
       "dtype: int64"
      ]
     },
     "execution_count": 9,
     "metadata": {},
     "output_type": "execute_result"
    }
   ],
   "source": [
    "import pandas as pd\n",
    "\n",
    "# book_data = pd.read_csv('data.csv').drop(columns=['isbn13', 'isbn10', 'subtitle', 'thumbnail', 'ratings_count'])\n",
    "# book_data = book_data.dropna()\n",
    "# book_data.to_csv('modified_book.csv', index=False)\n",
    "\n",
    "df = pd.read_csv('modified_book.csv')\n",
    "df.count()"
   ]
  }
 ],
 "metadata": {
  "kernelspec": {
   "display_name": "Python 3 (ipykernel)",
   "language": "python",
   "name": "python3"
  },
  "language_info": {
   "codemirror_mode": {
    "name": "ipython",
    "version": 3
   },
   "file_extension": ".py",
   "mimetype": "text/x-python",
   "name": "python",
   "nbconvert_exporter": "python",
   "pygments_lexer": "ipython3",
   "version": "3.11.8"
  }
 },
 "nbformat": 4,
 "nbformat_minor": 5
}
